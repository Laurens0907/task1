{
 "cells": [
  {
   "cell_type": "code",
   "execution_count": 4,
   "metadata": {},
   "outputs": [],
   "source": [
    "import numpy as np\n",
    "import pandas as pd\n",
    "import matplotlib.pyplot as plt\n",
    "from scipy import stats"
   ]
  },
  {
   "cell_type": "code",
   "execution_count": 51,
   "metadata": {},
   "outputs": [],
   "source": [
    "num_runs = 2\n",
    "enemy_num = [1, 4, 7] # dit moet groep list worden en moeten we nog bepalen\n",
    "EA = ['tournament','crowding'] # juiste ea file name"
   ]
  },
  {
   "cell_type": "code",
   "execution_count": 55,
   "metadata": {},
   "outputs": [],
   "source": [
    "df_list1 = []\n",
    "df_list2 = []\n",
    "\n",
    "for i in range(num_runs):\n",
    "    for j in EA:\n",
    "        if j == 'tournament':\n",
    "            # indiv...task1 vervangen voor juiste map\n",
    "            df_list1.append(pd.read_csv(\"multiple_task2/results_{}_{}_{}.txt\".format(enemy_num, i, j), sep=\" \", index_col=0))\n",
    "        elif j == 'crowding':\n",
    "            df_list2.append(pd.read_csv(\"multiple_task2/results_{}_{}_{}.txt\".format(enemy_num, i, j), sep=\" \", index_col=0))\n",
    "\n",
    "df1 = pd.concat(df_list1)\n",
    "df2 = pd.concat(df_list2)"
   ]
  },
  {
   "cell_type": "code",
   "execution_count": 56,
   "metadata": {},
   "outputs": [],
   "source": [
    "mean_of_means1 = np.array(df1.groupby(df1.index)['mean'].mean())\n",
    "sd_of_means1 = np.array(df1.groupby(df1.index)['mean'].std())\n",
    "mean_of_bests1 = np.array(df1.groupby(df1.index)['best'].mean())\n",
    "sd_of_bests1 = np.array(df1.groupby(df1.index)['best'].std())\n",
    "\n",
    "mean_of_means2 = np.array(df2.groupby(df2.index)['mean'].mean())\n",
    "sd_of_means2 = np.array(df2.groupby(df2.index)['mean'].std())\n",
    "mean_of_bests2 = np.array(df2.groupby(df2.index)['best'].mean())\n",
    "sd_of_bests2 = np.array(df2.groupby(df2.index)['best'].std())\n",
    "gen_nums = np.arange(len(mean_of_means1))"
   ]
  },
  {
   "cell_type": "code",
   "execution_count": 57,
   "metadata": {},
   "outputs": [],
   "source": [
    "lb_mean1 = mean_of_means1 - sd_of_means1\n",
    "ub_mean1 = mean_of_means1 + sd_of_means1\n",
    "lb_best1 = mean_of_bests1 - sd_of_bests1\n",
    "ub_best1 = mean_of_bests1 + sd_of_bests1\n",
    "\n",
    "lb_mean2 = mean_of_means2 - sd_of_means2\n",
    "ub_mean2 = mean_of_means2 + sd_of_means2\n",
    "lb_best2 = mean_of_bests2 - sd_of_bests2\n",
    "ub_best2 = mean_of_bests2 + sd_of_bests2"
   ]
  },
  {
   "cell_type": "code",
   "execution_count": 58,
   "metadata": {},
   "outputs": [
    {
     "data": {
      "image/png": "[encoded data removed]",
      "text/plain": [
       "<Figure size 720x432 with 1 Axes>"
      ]
     },
     "metadata": {
      "needs_background": "light"
     },
     "output_type": "display_data"
    }
   ],
   "source": [
    "fig, ax = plt.subplots(figsize=(10,6))\n",
    "ax.plot(mean_of_means1, label='mean EA1', color=\"blue\")\n",
    "ax.plot(mean_of_bests1, label='best EA1', color=\"orange\")\n",
    "\n",
    "'''Uitcommenten voor plot van beide in één'''\n",
    "ax.plot(mean_of_means2, label='mean EA2', color=\"green\")\n",
    "ax.plot(mean_of_bests2, label='best EA2', color=\"red\")\n",
    "plt.fill_between(gen_nums, lb_mean2, ub_mean2, alpha=.3, color=\"green\")\n",
    "plt.fill_between(gen_nums, lb_best2, ub_best2, alpha=.3, color=\"red\")\n",
    "\n",
    "plt.fill_between(gen_nums, lb_mean1, ub_mean1, alpha=.3, color=\"blue\")\n",
    "plt.fill_between(gen_nums, lb_best1, ub_best1, alpha=.3, color=\"orange\")\n",
    "plt.xticks(gen_nums)\n",
    "ax.set_xlabel(\"generation\")\n",
    "ax.set_ylabel(\"fitness\")\n",
    "ax.set_title(\"Fitness means and maxima enemy {}\".format(enemy_num))\n",
    "ax.legend()\n",
    "fig.savefig(\"lineplot_both_enemy{}.jpg\".format(enemy_num),dpi=300, bbox_inches='tight')\n",
    "# plt.show()"
   ]
  },
  {
   "cell_type": "code",
   "execution_count": 44,
   "metadata": {},
   "outputs": [],
   "source": [
    "# fig1, ax1 = plt.subplots(figsize=(10,6))\n",
    "# ax1.plot(mean_of_means2, label='mean EA2', color=\"green\")\n",
    "# ax1.plot(mean_of_bests2, label='best EA2', color=\"red\")\n",
    "\n",
    "# plt.fill_between(gen_nums, lb_mean2, ub_mean2, alpha=.3, color=\"green\")\n",
    "# plt.fill_between(gen_nums, lb_best2, ub_best2, alpha=.3, color=\"red\")\n",
    "# plt.xticks(gen_nums)\n",
    "# ax1.set_xlabel(\"generation\")\n",
    "# ax1.set_ylabel(\"fitness\")\n",
    "# ax1.set_title(\"Fitness means and maxima EA2\")\n",
    "# ax1.legend()\n",
    "# fig1.savefig(\"lineplot_EA2.jpg\",dpi=300, bbox_inches='tight')\n",
    "# # plt.show()"
   ]
  },
  {
   "cell_type": "code",
   "execution_count": 35,
   "metadata": {},
   "outputs": [],
   "source": [
    "box_dfs1 = []\n",
    "box_dfs2 = []\n",
    "enemy_num = [1, 4, 7]\n",
    "for i in range(0,num_runs):\n",
    "    for j in EA:\n",
    "        if j == 'tournament': # juiste ea namen\n",
    "            box_dfs1.append(pd.read_csv(\"multiple_task2/boxplot_{}_{}_{}.txt\".format(enemy_num, i, j), sep=\"\\n\", header=None))\n",
    "        elif j == 'crowding':\n",
    "            box_dfs2.append(pd.read_csv(\"multiple_task2/boxplot_{}_{}_{}.txt\".format(enemy_num, i, j), sep=\"\\n\", header=None))\n",
    "\n",
    "data1 = pd.concat(box_dfs1, axis = 1)\n",
    "data2 = pd.concat(box_dfs2, axis = 1)"
   ]
  },
  {
   "cell_type": "code",
   "execution_count": 16,
   "metadata": {},
   "outputs": [],
   "source": [
    "means1 = data1.mean()\n",
    "means2 = data2.mean()\n",
    "means = pd.concat([means1, means2], axis=1)\n",
    "means.to_csv('means_enemy{}.csv'.format(enemy_num))"
   ]
  },
  {
   "cell_type": "code",
   "execution_count": 17,
   "metadata": {},
   "outputs": [
    {
     "name": "stdout",
     "output_type": "stream",
     "text": [
      "0.15601615160775706\n"
     ]
    }
   ],
   "source": [
    "#statistical tests\n",
    "test = stats.ttest_ind(means1, means2)\n",
    "pval = test[1]\n",
    "print(pval)"
   ]
  },
  {
   "cell_type": "code",
   "execution_count": 43,
   "metadata": {},
   "outputs": [
    {
     "data": {
      "image/png": "[encoded data removed]",
      "text/plain": [
       "<Figure size 432x360 with 1 Axes>"
      ]
     },
     "metadata": {
      "needs_background": "light"
     },
     "output_type": "display_data"
    }
   ],
   "source": [
    "fig2, ax2 = plt.subplots(figsize=(6,5))\n",
    "c='red'\n",
    "c1='black'\n",
    "ax2.boxplot(means1, patch_artist=True,\n",
    "            boxprops=dict(facecolor=c, color=c1),\n",
    "            capprops=dict(color=c1),\n",
    "            whiskerprops=dict(color=c1),\n",
    "            flierprops=dict(color=c, markeredgecolor=c1),\n",
    "            medianprops=dict(color=c1))\n",
    "ax2.set_xlabel(\"Evolutionary Algorithm\")\n",
    "ax2.set_ylabel(\"Individual Gain\")\n",
    "ax2.set_title(\"Boxplot enemy {}\".format(enemy_num))\n",
    "ax2 = fig2.gca()\n",
    "fig2.savefig(\"boxplot_enemy_{}.jpg\".format(enemy_num),dpi=300, bbox_inches='tight')\n",
    "# plt.show()"
   ]
  },
  {
   "cell_type": "code",
   "execution_count": null,
   "metadata": {},
   "outputs": [],
   "source": []
  },
  {
   "cell_type": "code",
   "execution_count": null,
   "metadata": {},
   "outputs": [],
   "source": []
  },
  {
   "cell_type": "code",
   "execution_count": null,
   "metadata": {},
   "outputs": [],
   "source": []
  }
 ],
 "metadata": {
  "interpreter": {
   "hash": "3bf4a99d4dfe8121e6f6a7eef122b7161d6c963680fb2ca0ba011ec10579891c"
  },
  "kernelspec": {
   "display_name": "Python 3.8.5 64-bit ('base': conda)",
   "name": "python3"
  },
  "language_info": {
   "codemirror_mode": {
    "name": "ipython",
    "version": 3
   },
   "file_extension": ".py",
   "mimetype": "text/x-python",
   "name": "python",
   "nbconvert_exporter": "python",
   "pygments_lexer": "ipython3",
   "version": "3.8.5"
  },
  "orig_nbformat": 4
 },
 "nbformat": 4,
 "nbformat_minor": 2
}
