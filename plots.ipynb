{
 "cells": [
  {
   "cell_type": "code",
   "execution_count": 55,
   "source": [
    "import numpy as np\n",
    "import pandas as pd\n",
    "import sys\n",
    "import seaborn as sns\n",
    "import matplotlib.pyplot as plt"
   ],
   "outputs": [],
   "metadata": {}
  },
  {
   "cell_type": "code",
   "execution_count": 165,
   "source": [
    "df_list = []\n",
    "#lengte range aanpassen naar aantal runs\n",
    "for i in range(2):\n",
    "    df_list.append(pd.read_csv(\"plot/results_{}.txt\".format(i), sep=\" \", index_col=0))\n",
    "\n",
    "df = pd.concat(df_list)\n",
    "df"
   ],
   "outputs": [
    {
     "output_type": "execute_result",
     "data": {
      "text/html": [
       "<div>\n",
       "<style scoped>\n",
       "    .dataframe tbody tr th:only-of-type {\n",
       "        vertical-align: middle;\n",
       "    }\n",
       "\n",
       "    .dataframe tbody tr th {\n",
       "        vertical-align: top;\n",
       "    }\n",
       "\n",
       "    .dataframe thead th {\n",
       "        text-align: right;\n",
       "    }\n",
       "</style>\n",
       "<table border=\"1\" class=\"dataframe\">\n",
       "  <thead>\n",
       "    <tr style=\"text-align: right;\">\n",
       "      <th></th>\n",
       "      <th>best</th>\n",
       "      <th>mean</th>\n",
       "      <th>std</th>\n",
       "    </tr>\n",
       "    <tr>\n",
       "      <th>gen</th>\n",
       "      <th></th>\n",
       "      <th></th>\n",
       "      <th></th>\n",
       "    </tr>\n",
       "  </thead>\n",
       "  <tbody>\n",
       "    <tr>\n",
       "      <th>0</th>\n",
       "      <td>91.858736</td>\n",
       "      <td>8.776826</td>\n",
       "      <td>27.815984</td>\n",
       "    </tr>\n",
       "    <tr>\n",
       "      <th>1</th>\n",
       "      <td>91.858736</td>\n",
       "      <td>14.064007</td>\n",
       "      <td>31.022528</td>\n",
       "    </tr>\n",
       "    <tr>\n",
       "      <th>2</th>\n",
       "      <td>91.933573</td>\n",
       "      <td>18.727871</td>\n",
       "      <td>31.479738</td>\n",
       "    </tr>\n",
       "    <tr>\n",
       "      <th>3</th>\n",
       "      <td>91.933573</td>\n",
       "      <td>29.832303</td>\n",
       "      <td>35.687338</td>\n",
       "    </tr>\n",
       "    <tr>\n",
       "      <th>4</th>\n",
       "      <td>91.933573</td>\n",
       "      <td>41.684438</td>\n",
       "      <td>34.641113</td>\n",
       "    </tr>\n",
       "    <tr>\n",
       "      <th>5</th>\n",
       "      <td>91.933573</td>\n",
       "      <td>57.136531</td>\n",
       "      <td>31.237218</td>\n",
       "    </tr>\n",
       "    <tr>\n",
       "      <th>6</th>\n",
       "      <td>91.933573</td>\n",
       "      <td>72.951204</td>\n",
       "      <td>21.402795</td>\n",
       "    </tr>\n",
       "    <tr>\n",
       "      <th>7</th>\n",
       "      <td>91.933573</td>\n",
       "      <td>77.915912</td>\n",
       "      <td>20.054260</td>\n",
       "    </tr>\n",
       "    <tr>\n",
       "      <th>8</th>\n",
       "      <td>91.933573</td>\n",
       "      <td>81.705281</td>\n",
       "      <td>18.997071</td>\n",
       "    </tr>\n",
       "    <tr>\n",
       "      <th>9</th>\n",
       "      <td>92.530119</td>\n",
       "      <td>84.667866</td>\n",
       "      <td>14.301720</td>\n",
       "    </tr>\n",
       "    <tr>\n",
       "      <th>10</th>\n",
       "      <td>91.968788</td>\n",
       "      <td>87.606340</td>\n",
       "      <td>11.408015</td>\n",
       "    </tr>\n",
       "    <tr>\n",
       "      <th>11</th>\n",
       "      <td>91.933573</td>\n",
       "      <td>91.530128</td>\n",
       "      <td>1.022610</td>\n",
       "    </tr>\n",
       "    <tr>\n",
       "      <th>12</th>\n",
       "      <td>91.975982</td>\n",
       "      <td>91.838487</td>\n",
       "      <td>0.230771</td>\n",
       "    </tr>\n",
       "    <tr>\n",
       "      <th>13</th>\n",
       "      <td>92.643172</td>\n",
       "      <td>91.886185</td>\n",
       "      <td>0.137348</td>\n",
       "    </tr>\n",
       "    <tr>\n",
       "      <th>14</th>\n",
       "      <td>92.533573</td>\n",
       "      <td>91.909903</td>\n",
       "      <td>0.097066</td>\n",
       "    </tr>\n",
       "    <tr>\n",
       "      <th>15</th>\n",
       "      <td>91.975982</td>\n",
       "      <td>91.908666</td>\n",
       "      <td>0.037030</td>\n",
       "    </tr>\n",
       "    <tr>\n",
       "      <th>16</th>\n",
       "      <td>93.521885</td>\n",
       "      <td>91.437928</td>\n",
       "      <td>3.485491</td>\n",
       "    </tr>\n",
       "    <tr>\n",
       "      <th>17</th>\n",
       "      <td>91.975982</td>\n",
       "      <td>91.893129</td>\n",
       "      <td>0.075206</td>\n",
       "    </tr>\n",
       "    <tr>\n",
       "      <th>18</th>\n",
       "      <td>91.933573</td>\n",
       "      <td>91.886553</td>\n",
       "      <td>0.086845</td>\n",
       "    </tr>\n",
       "    <tr>\n",
       "      <th>19</th>\n",
       "      <td>91.933573</td>\n",
       "      <td>91.578493</td>\n",
       "      <td>2.258194</td>\n",
       "    </tr>\n",
       "    <tr>\n",
       "      <th>0</th>\n",
       "      <td>91.933573</td>\n",
       "      <td>16.215909</td>\n",
       "      <td>32.947389</td>\n",
       "    </tr>\n",
       "    <tr>\n",
       "      <th>1</th>\n",
       "      <td>91.933573</td>\n",
       "      <td>24.476378</td>\n",
       "      <td>36.015463</td>\n",
       "    </tr>\n",
       "    <tr>\n",
       "      <th>2</th>\n",
       "      <td>91.933573</td>\n",
       "      <td>35.934648</td>\n",
       "      <td>38.834111</td>\n",
       "    </tr>\n",
       "    <tr>\n",
       "      <th>3</th>\n",
       "      <td>91.933573</td>\n",
       "      <td>49.327279</td>\n",
       "      <td>37.439834</td>\n",
       "    </tr>\n",
       "    <tr>\n",
       "      <th>4</th>\n",
       "      <td>92.058736</td>\n",
       "      <td>63.994607</td>\n",
       "      <td>29.797301</td>\n",
       "    </tr>\n",
       "    <tr>\n",
       "      <th>5</th>\n",
       "      <td>91.937040</td>\n",
       "      <td>73.563779</td>\n",
       "      <td>23.142618</td>\n",
       "    </tr>\n",
       "    <tr>\n",
       "      <th>6</th>\n",
       "      <td>91.933573</td>\n",
       "      <td>78.293062</td>\n",
       "      <td>21.821301</td>\n",
       "    </tr>\n",
       "    <tr>\n",
       "      <th>7</th>\n",
       "      <td>92.058736</td>\n",
       "      <td>83.538552</td>\n",
       "      <td>13.912787</td>\n",
       "    </tr>\n",
       "    <tr>\n",
       "      <th>8</th>\n",
       "      <td>92.458736</td>\n",
       "      <td>89.633104</td>\n",
       "      <td>5.686676</td>\n",
       "    </tr>\n",
       "    <tr>\n",
       "      <th>9</th>\n",
       "      <td>92.058736</td>\n",
       "      <td>87.827011</td>\n",
       "      <td>13.029117</td>\n",
       "    </tr>\n",
       "    <tr>\n",
       "      <th>10</th>\n",
       "      <td>91.933573</td>\n",
       "      <td>89.961146</td>\n",
       "      <td>9.234016</td>\n",
       "    </tr>\n",
       "    <tr>\n",
       "      <th>11</th>\n",
       "      <td>91.933573</td>\n",
       "      <td>91.345314</td>\n",
       "      <td>3.511337</td>\n",
       "    </tr>\n",
       "    <tr>\n",
       "      <th>12</th>\n",
       "      <td>91.933573</td>\n",
       "      <td>91.858350</td>\n",
       "      <td>0.102910</td>\n",
       "    </tr>\n",
       "    <tr>\n",
       "      <th>13</th>\n",
       "      <td>91.933573</td>\n",
       "      <td>91.878525</td>\n",
       "      <td>0.074182</td>\n",
       "    </tr>\n",
       "    <tr>\n",
       "      <th>14</th>\n",
       "      <td>91.933573</td>\n",
       "      <td>91.888491</td>\n",
       "      <td>0.059782</td>\n",
       "    </tr>\n",
       "    <tr>\n",
       "      <th>15</th>\n",
       "      <td>92.039318</td>\n",
       "      <td>91.897224</td>\n",
       "      <td>0.076897</td>\n",
       "    </tr>\n",
       "    <tr>\n",
       "      <th>16</th>\n",
       "      <td>91.933573</td>\n",
       "      <td>88.261149</td>\n",
       "      <td>16.152218</td>\n",
       "    </tr>\n",
       "    <tr>\n",
       "      <th>17</th>\n",
       "      <td>91.933573</td>\n",
       "      <td>90.512378</td>\n",
       "      <td>6.941370</td>\n",
       "    </tr>\n",
       "    <tr>\n",
       "      <th>18</th>\n",
       "      <td>91.933573</td>\n",
       "      <td>91.760223</td>\n",
       "      <td>0.694895</td>\n",
       "    </tr>\n",
       "    <tr>\n",
       "      <th>19</th>\n",
       "      <td>91.933573</td>\n",
       "      <td>91.819231</td>\n",
       "      <td>0.586978</td>\n",
       "    </tr>\n",
       "  </tbody>\n",
       "</table>\n",
       "</div>"
      ],
      "text/plain": [
       "          best       mean        std\n",
       "gen                                 \n",
       "0    91.858736   8.776826  27.815984\n",
       "1    91.858736  14.064007  31.022528\n",
       "2    91.933573  18.727871  31.479738\n",
       "3    91.933573  29.832303  35.687338\n",
       "4    91.933573  41.684438  34.641113\n",
       "5    91.933573  57.136531  31.237218\n",
       "6    91.933573  72.951204  21.402795\n",
       "7    91.933573  77.915912  20.054260\n",
       "8    91.933573  81.705281  18.997071\n",
       "9    92.530119  84.667866  14.301720\n",
       "10   91.968788  87.606340  11.408015\n",
       "11   91.933573  91.530128   1.022610\n",
       "12   91.975982  91.838487   0.230771\n",
       "13   92.643172  91.886185   0.137348\n",
       "14   92.533573  91.909903   0.097066\n",
       "15   91.975982  91.908666   0.037030\n",
       "16   93.521885  91.437928   3.485491\n",
       "17   91.975982  91.893129   0.075206\n",
       "18   91.933573  91.886553   0.086845\n",
       "19   91.933573  91.578493   2.258194\n",
       "0    91.933573  16.215909  32.947389\n",
       "1    91.933573  24.476378  36.015463\n",
       "2    91.933573  35.934648  38.834111\n",
       "3    91.933573  49.327279  37.439834\n",
       "4    92.058736  63.994607  29.797301\n",
       "5    91.937040  73.563779  23.142618\n",
       "6    91.933573  78.293062  21.821301\n",
       "7    92.058736  83.538552  13.912787\n",
       "8    92.458736  89.633104   5.686676\n",
       "9    92.058736  87.827011  13.029117\n",
       "10   91.933573  89.961146   9.234016\n",
       "11   91.933573  91.345314   3.511337\n",
       "12   91.933573  91.858350   0.102910\n",
       "13   91.933573  91.878525   0.074182\n",
       "14   91.933573  91.888491   0.059782\n",
       "15   92.039318  91.897224   0.076897\n",
       "16   91.933573  88.261149  16.152218\n",
       "17   91.933573  90.512378   6.941370\n",
       "18   91.933573  91.760223   0.694895\n",
       "19   91.933573  91.819231   0.586978"
      ]
     },
     "metadata": {},
     "execution_count": 165
    }
   ],
   "metadata": {}
  },
  {
   "cell_type": "code",
   "execution_count": 173,
   "source": [
    "mean_of_means = np.array(df.groupby(df.index)['mean'].mean())\n",
    "sd_of_means = np.array(df.groupby(df.index)['mean'].std())\n",
    "mean_of_bests = np.array(df.groupby(df.index)['best'].mean())\n",
    "sd_of_bests = np.array(df.groupby(df.index)['best'].std())\n",
    "gen_nums = np.arange(len(mean_of_means))"
   ],
   "outputs": [],
   "metadata": {}
  },
  {
   "cell_type": "code",
   "execution_count": 174,
   "source": [
    "df_plot = pd.DataFrame({'mean_of_means': mean_of_means, 'sd_of_means': sd_of_means, 'mean_of_bests': mean_of_bests, 'sd_of_bests': sd_of_bests})"
   ],
   "outputs": [],
   "metadata": {}
  },
  {
   "cell_type": "code",
   "execution_count": 175,
   "source": [
    "lb_mean = mean_of_means - sd_of_means\n",
    "ub_mean = mean_of_means + sd_of_means\n",
    "lb_best = mean_of_bests - sd_of_bests\n",
    "ub_best = mean_of_bests + sd_of_bests\n",
    "\n",
    "fig, ax = plt.subplots()\n",
    "ax.plot(df_plot['mean_of_means'], label='mean')\n",
    "ax.plot(df_plot['mean_of_bests'], label='best')\n",
    "\n",
    "plt.fill_between(gen_nums, lb_mean, ub_mean, alpha=.3, color=\"blue\")\n",
    "plt.fill_between(gen_nums, lb_best, ub_best, alpha=.3, color=\"orange\")\n",
    "plt.xticks(gen_nums)\n",
    "ax.set_xlabel(\"generation\")\n",
    "ax.set_ylabel(\"fitness\")\n",
    "ax.set_title(\"Fitness means and maxima\")\n",
    "ax.legend()\n",
    "plt.show()"
   ],
   "outputs": [
    {
     "output_type": "display_data",
     "data": {
      "image/png": "[encoded data removed]",
      "text/plain": [
       "<Figure size 432x288 with 1 Axes>"
      ]
     },
     "metadata": {
      "needs_background": "light"
     }
    }
   ],
   "metadata": {}
  },
  {
   "cell_type": "code",
   "execution_count": 181,
   "source": [
    "best_individuals = []\n",
    "for i in range(len(df_list)):\n",
    "    best_individuals.append(df_list[i]['best'].max())\n",
    "    \n",
    "best_individuals"
   ],
   "outputs": [
    {
     "output_type": "execute_result",
     "data": {
      "text/plain": [
       "[93.521885, 92.458736]"
      ]
     },
     "metadata": {},
     "execution_count": 181
    }
   ],
   "metadata": {}
  },
  {
   "cell_type": "code",
   "execution_count": 260,
   "source": [
    "box_dfs = []\n",
    "mean = []\n",
    "#lengte range aanpassen naar aantal runs\n",
    "for i in range(3):\n",
    "    box_dfs.append(pd.read_csv(\"individual_task1/test_run_2_{}.txt\".format(i), sep=\"\\n\", header=None))\n",
    "\n",
    "data = pd.concat(box_dfs, axis = 1)\n",
    "data"
   ],
   "outputs": [
    {
     "output_type": "execute_result",
     "data": {
      "text/html": [
       "<div>\n",
       "<style scoped>\n",
       "    .dataframe tbody tr th:only-of-type {\n",
       "        vertical-align: middle;\n",
       "    }\n",
       "\n",
       "    .dataframe tbody tr th {\n",
       "        vertical-align: top;\n",
       "    }\n",
       "\n",
       "    .dataframe thead th {\n",
       "        text-align: right;\n",
       "    }\n",
       "</style>\n",
       "<table border=\"1\" class=\"dataframe\">\n",
       "  <thead>\n",
       "    <tr style=\"text-align: right;\">\n",
       "      <th></th>\n",
       "      <th>0</th>\n",
       "      <th>0</th>\n",
       "      <th>0</th>\n",
       "    </tr>\n",
       "  </thead>\n",
       "  <tbody>\n",
       "    <tr>\n",
       "      <th>0</th>\n",
       "      <td>48.0</td>\n",
       "      <td>-60.0</td>\n",
       "      <td>22.0</td>\n",
       "    </tr>\n",
       "    <tr>\n",
       "      <th>1</th>\n",
       "      <td>-20.0</td>\n",
       "      <td>-70.0</td>\n",
       "      <td>22.0</td>\n",
       "    </tr>\n",
       "    <tr>\n",
       "      <th>2</th>\n",
       "      <td>54.0</td>\n",
       "      <td>-70.0</td>\n",
       "      <td>-10.0</td>\n",
       "    </tr>\n",
       "    <tr>\n",
       "      <th>3</th>\n",
       "      <td>-20.0</td>\n",
       "      <td>-70.0</td>\n",
       "      <td>22.0</td>\n",
       "    </tr>\n",
       "    <tr>\n",
       "      <th>4</th>\n",
       "      <td>48.0</td>\n",
       "      <td>-70.0</td>\n",
       "      <td>-30.0</td>\n",
       "    </tr>\n",
       "  </tbody>\n",
       "</table>\n",
       "</div>"
      ],
      "text/plain": [
       "      0     0     0\n",
       "0  48.0 -60.0  22.0\n",
       "1 -20.0 -70.0  22.0\n",
       "2  54.0 -70.0 -10.0\n",
       "3 -20.0 -70.0  22.0\n",
       "4  48.0 -70.0 -30.0"
      ]
     },
     "metadata": {},
     "execution_count": 260
    }
   ],
   "metadata": {}
  },
  {
   "cell_type": "code",
   "execution_count": 258,
   "source": [
    "means = data.mean()\n",
    "means"
   ],
   "outputs": [
    {
     "output_type": "execute_result",
     "data": {
      "text/plain": [
       "run0    22.0\n",
       "run1   -68.0\n",
       "run2     5.2\n",
       "dtype: float64"
      ]
     },
     "metadata": {},
     "execution_count": 258
    }
   ],
   "metadata": {}
  },
  {
   "cell_type": "code",
   "execution_count": 269,
   "source": [
    "fig, ax = plt.subplots()\n",
    "ax.boxplot(means)\n",
    "ax.set_xlabel(\"EA1\")\n",
    "ax.set_ylabel(\"Individual Gain\")\n",
    "ax.set_title(\"Boxplot of best individual enemy {}\".format(2))"
   ],
   "outputs": [
    {
     "output_type": "execute_result",
     "data": {
      "text/plain": [
       "Text(0.5, 1.0, 'Boxplot of best individual enemy 2')"
      ]
     },
     "metadata": {},
     "execution_count": 269
    },
    {
     "output_type": "display_data",
     "data": {
      "image/png": "[encoded data removed]",
      "text/plain": [
       "<Figure size 432x288 with 1 Axes>"
      ]
     },
     "metadata": {
      "needs_background": "light"
     }
    }
   ],
   "metadata": {}
  },
  {
   "cell_type": "code",
   "execution_count": 271,
   "source": [
    "sns.boxplot(means, color=\"red\", orient='v', width=0.2)"
   ],
   "outputs": [
    {
     "output_type": "execute_result",
     "data": {
      "text/plain": [
       "<AxesSubplot:>"
      ]
     },
     "metadata": {},
     "execution_count": 271
    },
    {
     "output_type": "display_data",
     "data": {
      "image/png": "[encoded data removed]",
      "text/plain": [
       "<Figure size 432x288 with 1 Axes>"
      ]
     },
     "metadata": {
      "needs_background": "light"
     }
    }
   ],
   "metadata": {}
  },
  {
   "cell_type": "code",
   "execution_count": null,
   "source": [],
   "outputs": [],
   "metadata": {}
  }
 ],
 "metadata": {
  "orig_nbformat": 4,
  "language_info": {
   "name": "python",
   "version": "3.8.3",
   "mimetype": "text/x-python",
   "codemirror_mode": {
    "name": "ipython",
    "version": 3
   },
   "pygments_lexer": "ipython3",
   "nbconvert_exporter": "python",
   "file_extension": ".py"
  },
  "kernelspec": {
   "name": "python3",
   "display_name": "Python 3.8.3 64-bit ('base': conda)"
  },
  "interpreter": {
   "hash": "dca0ade3e726a953b501b15e8e990130d2b7799f14cfd9f4271676035ebe5511"
  }
 },
 "nbformat": 4,
 "nbformat_minor": 2
}