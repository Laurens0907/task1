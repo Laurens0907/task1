{
 "cells": [
  {
   "cell_type": "code",
   "execution_count": 1,
   "source": [
    "import numpy as np\n",
    "import pandas as pd\n",
    "import sys\n",
    "import seaborn as sns\n",
    "import matplotlib.pyplot as plt"
   ],
   "outputs": [],
   "metadata": {}
  },
  {
   "cell_type": "code",
   "execution_count": null,
   "source": [
    "enemies = 2\n",
    "crossover_mode = 'arithmetic'"
   ],
   "outputs": [],
   "metadata": {}
  },
  {
   "cell_type": "code",
   "execution_count": 7,
   "source": [
    "df_list = []\n",
    "#lengte range aanpassen naar aantal runs\n",
    "for i in range(10):\n",
    "    df_list.append(pd.read_csv(\"individual_task1/results_{}_{}_{}.txt\".format(enemies,i, crossover_mode), sep=\" \", index_col=0))\n",
    "\n",
    "df = pd.concat(df_list)\n",
    "df"
   ],
   "outputs": [
    {
     "output_type": "execute_result",
     "data": {
      "text/html": [
       "<div>\n",
       "<style scoped>\n",
       "    .dataframe tbody tr th:only-of-type {\n",
       "        vertical-align: middle;\n",
       "    }\n",
       "\n",
       "    .dataframe tbody tr th {\n",
       "        vertical-align: top;\n",
       "    }\n",
       "\n",
       "    .dataframe thead th {\n",
       "        text-align: right;\n",
       "    }\n",
       "</style>\n",
       "<table border=\"1\" class=\"dataframe\">\n",
       "  <thead>\n",
       "    <tr style=\"text-align: right;\">\n",
       "      <th></th>\n",
       "      <th>best</th>\n",
       "      <th>mean</th>\n",
       "      <th>std</th>\n",
       "    </tr>\n",
       "    <tr>\n",
       "      <th>gen</th>\n",
       "      <th></th>\n",
       "      <th></th>\n",
       "      <th></th>\n",
       "    </tr>\n",
       "  </thead>\n",
       "  <tbody>\n",
       "    <tr>\n",
       "      <th>0</th>\n",
       "      <td>91.843172</td>\n",
       "      <td>3.740024</td>\n",
       "      <td>22.682127</td>\n",
       "    </tr>\n",
       "    <tr>\n",
       "      <th>1</th>\n",
       "      <td>91.843172</td>\n",
       "      <td>11.867995</td>\n",
       "      <td>28.572803</td>\n",
       "    </tr>\n",
       "    <tr>\n",
       "      <th>2</th>\n",
       "      <td>91.843172</td>\n",
       "      <td>23.714712</td>\n",
       "      <td>35.587594</td>\n",
       "    </tr>\n",
       "    <tr>\n",
       "      <th>3</th>\n",
       "      <td>91.858736</td>\n",
       "      <td>34.151407</td>\n",
       "      <td>38.045723</td>\n",
       "    </tr>\n",
       "    <tr>\n",
       "      <th>4</th>\n",
       "      <td>91.858736</td>\n",
       "      <td>39.756971</td>\n",
       "      <td>37.095708</td>\n",
       "    </tr>\n",
       "  </tbody>\n",
       "</table>\n",
       "</div>"
      ],
      "text/plain": [
       "          best       mean        std\n",
       "gen                                 \n",
       "0    91.843172   3.740024  22.682127\n",
       "1    91.843172  11.867995  28.572803\n",
       "2    91.843172  23.714712  35.587594\n",
       "3    91.858736  34.151407  38.045723\n",
       "4    91.858736  39.756971  37.095708"
      ]
     },
     "metadata": {},
     "execution_count": 7
    }
   ],
   "metadata": {}
  },
  {
   "cell_type": "code",
   "execution_count": 8,
   "source": [
    "mean_of_means = np.array(df.groupby(df.index)['mean'].mean())\n",
    "sd_of_means = np.array(df.groupby(df.index)['mean'].std())\n",
    "mean_of_bests = np.array(df.groupby(df.index)['best'].mean())\n",
    "sd_of_bests = np.array(df.groupby(df.index)['best'].std())\n",
    "gen_nums = np.arange(len(mean_of_means))"
   ],
   "outputs": [],
   "metadata": {}
  },
  {
   "cell_type": "code",
   "execution_count": 9,
   "source": [
    "df_plot = pd.DataFrame({'mean_of_means': mean_of_means, 'sd_of_means': sd_of_means, 'mean_of_bests': mean_of_bests, 'sd_of_bests': sd_of_bests})"
   ],
   "outputs": [],
   "metadata": {}
  },
  {
   "cell_type": "code",
   "execution_count": 10,
   "source": [
    "lb_mean = mean_of_means - sd_of_means\n",
    "ub_mean = mean_of_means + sd_of_means\n",
    "lb_best = mean_of_bests - sd_of_bests\n",
    "ub_best = mean_of_bests + sd_of_bests\n",
    "\n",
    "fig, ax = plt.subplots()\n",
    "ax.plot(df_plot['mean_of_means'], label='mean')\n",
    "ax.plot(df_plot['mean_of_bests'], label='best')\n",
    "\n",
    "plt.fill_between(gen_nums, lb_mean, ub_mean, alpha=.3, color=\"blue\")\n",
    "plt.fill_between(gen_nums, lb_best, ub_best, alpha=.3, color=\"orange\")\n",
    "plt.xticks(gen_nums)\n",
    "ax.set_xlabel(\"generation\")\n",
    "ax.set_ylabel(\"fitness\")\n",
    "ax.set_title(\"Fitness means and maxima\")\n",
    "ax.legend()\n",
    "plt.show()"
   ],
   "outputs": [
    {
     "output_type": "display_data",
     "data": {
      "image/png": "[encoded data removed]",
      "text/plain": [
       "<Figure size 432x288 with 1 Axes>"
      ]
     },
     "metadata": {
      "needs_background": "light"
     }
    }
   ],
   "metadata": {}
  },
  {
   "cell_type": "code",
   "execution_count": 11,
   "source": [
    "best_individuals = []\n",
    "for i in range(len(df_list)):\n",
    "    best_individuals.append(df_list[i]['best'].max())\n",
    "    \n",
    "best_individuals"
   ],
   "outputs": [
    {
     "output_type": "execute_result",
     "data": {
      "text/plain": [
       "[91.858736]"
      ]
     },
     "metadata": {},
     "execution_count": 11
    }
   ],
   "metadata": {}
  },
  {
   "cell_type": "code",
   "execution_count": 15,
   "source": [
    "box_dfs = []\n",
    "mean = []\n",
    "#lengte range aanpassen naar aantal runs\n",
    "for i in range(10):\n",
    "    box_dfs.append(pd.read_csv(\"individual_task1/boxplot_{}_{}_{}.txt\".format(enemies,i, crossover_mode), sep=\"\\n\", header=None))\n",
    "\n",
    "data = pd.concat(box_dfs, axis = 1)\n",
    "data"
   ],
   "outputs": [
    {
     "output_type": "execute_result",
     "data": {
      "text/html": [
       "<div>\n",
       "<style scoped>\n",
       "    .dataframe tbody tr th:only-of-type {\n",
       "        vertical-align: middle;\n",
       "    }\n",
       "\n",
       "    .dataframe tbody tr th {\n",
       "        vertical-align: top;\n",
       "    }\n",
       "\n",
       "    .dataframe thead th {\n",
       "        text-align: right;\n",
       "    }\n",
       "</style>\n",
       "<table border=\"1\" class=\"dataframe\">\n",
       "  <thead>\n",
       "    <tr style=\"text-align: right;\">\n",
       "      <th></th>\n",
       "      <th>0</th>\n",
       "    </tr>\n",
       "  </thead>\n",
       "  <tbody>\n",
       "    <tr>\n",
       "      <th>0</th>\n",
       "      <td>74</td>\n",
       "    </tr>\n",
       "    <tr>\n",
       "      <th>1</th>\n",
       "      <td>74</td>\n",
       "    </tr>\n",
       "    <tr>\n",
       "      <th>2</th>\n",
       "      <td>76</td>\n",
       "    </tr>\n",
       "    <tr>\n",
       "      <th>3</th>\n",
       "      <td>76</td>\n",
       "    </tr>\n",
       "    <tr>\n",
       "      <th>4</th>\n",
       "      <td>74</td>\n",
       "    </tr>\n",
       "  </tbody>\n",
       "</table>\n",
       "</div>"
      ],
      "text/plain": [
       "    0\n",
       "0  74\n",
       "1  74\n",
       "2  76\n",
       "3  76\n",
       "4  74"
      ]
     },
     "metadata": {},
     "execution_count": 15
    }
   ],
   "metadata": {}
  },
  {
   "cell_type": "code",
   "execution_count": 16,
   "source": [
    "means = data.mean()\n",
    "means"
   ],
   "outputs": [
    {
     "output_type": "execute_result",
     "data": {
      "text/plain": [
       "0    74.8\n",
       "dtype: float64"
      ]
     },
     "metadata": {},
     "execution_count": 16
    }
   ],
   "metadata": {}
  },
  {
   "cell_type": "code",
   "execution_count": 17,
   "source": [
    "fig, ax = plt.subplots()\n",
    "ax.boxplot(means)\n",
    "ax.set_xlabel(\"EA1\")\n",
    "ax.set_ylabel(\"Individual Gain\")\n",
    "ax.set_title(\"Boxplot of best individual enemy {}\".format(2))"
   ],
   "outputs": [
    {
     "output_type": "execute_result",
     "data": {
      "text/plain": [
       "Text(0.5, 1.0, 'Boxplot of best individual enemy 2')"
      ]
     },
     "metadata": {},
     "execution_count": 17
    },
    {
     "output_type": "display_data",
     "data": {
      "image/png": "[encoded data removed]",
      "text/plain": [
       "<Figure size 432x288 with 1 Axes>"
      ]
     },
     "metadata": {
      "needs_background": "light"
     }
    }
   ],
   "metadata": {}
  },
  {
   "cell_type": "code",
   "execution_count": 271,
   "source": [
    "sns.boxplot(means, color=\"red\", orient='v', width=0.2)"
   ],
   "outputs": [
    {
     "output_type": "execute_result",
     "data": {
      "text/plain": [
       "<AxesSubplot:>"
      ]
     },
     "metadata": {},
     "execution_count": 271
    },
    {
     "output_type": "display_data",
     "data": {
      "image/png": "[encoded data removed]",
      "text/plain": [
       "<Figure size 432x288 with 1 Axes>"
      ]
     },
     "metadata": {
      "needs_background": "light"
     }
    }
   ],
   "metadata": {}
  },
  {
   "cell_type": "code",
   "execution_count": null,
   "source": [],
   "outputs": [],
   "metadata": {}
  }
 ],
 "metadata": {
  "orig_nbformat": 4,
  "language_info": {
   "name": "python",
   "version": "3.8.5",
   "mimetype": "text/x-python",
   "codemirror_mode": {
    "name": "ipython",
    "version": 3
   },
   "pygments_lexer": "ipython3",
   "nbconvert_exporter": "python",
   "file_extension": ".py"
  },
  "kernelspec": {
   "name": "python3",
   "display_name": "Python 3.8.5 64-bit ('base': conda)"
  },
  "interpreter": {
   "hash": "3bf4a99d4dfe8121e6f6a7eef122b7161d6c963680fb2ca0ba011ec10579891c"
  }
 },
 "nbformat": 4,
 "nbformat_minor": 2
}